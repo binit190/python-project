{
  "nbformat": 4,
  "nbformat_minor": 0,
  "metadata": {
    "colab": {
      "provenance": [],
      "authorship_tag": "ABX9TyMJnHUMR49D8oKYBhPTmGto",
      "include_colab_link": true
    },
    "kernelspec": {
      "name": "python3",
      "display_name": "Python 3"
    },
    "language_info": {
      "name": "python"
    }
  },
  "cells": [
    {
      "cell_type": "markdown",
      "metadata": {
        "id": "view-in-github",
        "colab_type": "text"
      },
      "source": [
        "<a href=\"https://colab.research.google.com/github/binit190/python-project/blob/main/python_projects.ipynb\" target=\"_parent\"><img src=\"https://colab.research.google.com/assets/colab-badge.svg\" alt=\"Open In Colab\"/></a>"
      ]
    },
    {
      "cell_type": "code",
      "execution_count": null,
      "metadata": {
        "id": "e5iMrscSrE2e"
      },
      "outputs": [],
      "source": [
        "import pandas as pd\n",
        "from sklearn.model_selection import train_test_split\n",
        "from sklearn.linear_model import LogisticRegression\n",
        "from sklearn.metrics import accuracy_score, classification_report, confusion_matrix\n",
        "\n",
        "# Load the dataset\n",
        "df = pd.read_csv('admission_data.csv')\n",
        "\n",
        "# Preprocess the data\n",
        "X = df.drop(['admitted'], axis=1)  # features\n",
        "y = df['admitted']  # target variable\n",
        "\n",
        "# Split the data into training and testing sets\n",
        "X_train, X_test, y_train, y_test = train_test_split(X, y, test_size=0.2, random_state=42)\n",
        "\n",
        "# Create a logistic regression model\n",
        "model = LogisticRegression()\n",
        "\n",
        "# Train the model\n",
        "model.fit(X_train, y_train)\n",
        "\n",
        "# Make predictions on the testing set\n",
        "y_pred = model.predict(X_test)\n",
        "\n",
        "# Evaluate the model\n",
        "accuracy = accuracy_score(y_test, y_pred)\n",
        "print(\"Accuracy:\", accuracy)\n",
        "print(\"Classification Report:\")\n",
        "print(classification_report(y_test, y_pred))\n",
        "print(\"Confusion Matrix:\")\n",
        "print(confusion_matrix(y_test, y_pred))\n",
        "\n",
        "# Define a function to predict the chance of admission\n",
        "def predict_chance_of_admission(gpa, gre, toefl, university_rating, sop, lor, cgpa):\n",
        "    # Create a new data point\n",
        "    new_data = pd.DataFrame({'gpa': [gpa], 'gre': [gre], 'toefl': [toefl], 'university_rating': [university_rating], 'sop': [sop], 'lor': [lor], 'cgpa': [cgpa]})\n",
        "\n",
        "    # Make a prediction\n",
        "    prediction = model.predict_proba(new_data)[:, 1]\n",
        "\n",
        "    # Return the chance of admission\n",
        "    return prediction[0]\n",
        "\n",
        "# Example usage:\n",
        "gpa = 3.5\n",
        "gre = 320\n",
        "toefl = 110\n",
        "university_rating = 4\n",
        "sop = 4\n",
        "lor = 4\n",
        "cgpa = 8.5\n",
        "\n",
        "chance_of_admission = predict_chance_of_admission(gpa, gre, toefl, university_rating, sop, lor, cgpa)\n",
        "print(\"Chance of Admission:\", chance_of_admission)"
      ]
    }
  ]
}